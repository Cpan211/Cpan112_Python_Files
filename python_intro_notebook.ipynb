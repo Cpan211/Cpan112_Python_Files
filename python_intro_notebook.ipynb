{
  "cells": [
    {
      "cell_type": "markdown",
      "metadata": {
        "id": "yfP78dPDQbm5"
      },
      "source": [
        "<h1 style='color: #2E86C1'>Introduction to Python</h1>\n",
        "<p>This notebook provides an interactive introduction to Python programming fundamentals. We'll cover:</p>\n",
        "<ul>\n",
        "    <li>Variables and Basic Operations</li>\n",
        "    <li>Conditionals</li>\n",
        "    <li>Working with Lists and Loops</li>\n",
        "    <li>Functions</li>\n",
        "</ul>"
      ]
    },
    {
      "cell_type": "code",
      "execution_count": null,
      "metadata": {
        "id": "TtpIpVsSQbm6"
      },
      "outputs": [],
      "source": [
        "# First, let's import libraries we'll need\n",
        "import numpy as np"
      ]
    },
    {
      "cell_type": "markdown",
      "metadata": {
        "id": "MbnjXS7NQbm7"
      },
      "source": [
        "# <h2 style='color: #2E86C1'>1. Variables and Basic Operations</h2>\n",
        "<p>Variables are containers for storing data values. Python has no command for declaring a variable -\n",
        "a variable is created the moment you first assign a value to it.</p>"
      ]
    },
    {
      "cell_type": "code",
      "execution_count": null,
      "metadata": {
        "id": "Z74U_NcGQbm7"
      },
      "outputs": [],
      "source": [
        "# Let's start with some basic variables\n",
        "num1 = 3\n",
        "num2 = 4\n",
        "num3 = 7\n",
        "num4 = 2.2\n",
        "num5 = 8.6\n",
        "\n",
        "# Method 1: Calculate average using basic arithmetic\n",
        "average = (num1 + num2 + num3 + num4 + num5) / 5\n",
        "print(\"Method 1 - The average is:\", average)\n",
        "print(f\"The average is : {average: .2f}\")"
      ]
    },
    {
      "cell_type": "markdown",
      "metadata": {
        "id": "ABwynwWPQbm7"
      },
      "source": [
        "## Math Operators\n",
        "\n",
        "For reference, here's a list of other math operations you can apply towards numbers:\n",
        "\n",
        "| Operators | Operation | Example |\n",
        "|-----------|-----------|---------|\n",
        "| ** | Exponent | 2 ** 3 = 8 |\n",
        "| % | Modulus/Remainder | 22 % 8 = 6 |\n",
        "| // | Integer division | 22 // 8 = 2 |\n",
        "| / | Division | 22 / 8 = 2.75 |\n",
        "| * | Multiplication | 3 * 3 = 9 |\n",
        "| - | Subtraction | 5 - 2 = 3 |\n",
        "| + | Addition | 2 + 2 = 4 |"
      ]
    },
    {
      "cell_type": "markdown",
      "metadata": {
        "id": "Nm-GCyNaQbm7"
      },
      "source": [
        "# <h2 style='color: #2E86C1'>2. Conditionals</h2>\n",
        "<p>Testing truth value</p>\n",
        "<code>==, !=, >, <, >=, <=</code>"
      ]
    },
    {
      "cell_type": "code",
      "execution_count": null,
      "metadata": {
        "id": "8LvCyfZbQbm7"
      },
      "outputs": [],
      "source": [
        "print(f\"{1 == 0}\")\n",
        "print(f\"{1 != 0}\")\n",
        "print(f\"{1 > 0}\")\n",
        "print(f\"{1 > 1}\")\n",
        "print(f\"{1 < 0}\")\n",
        "print(f\"{1 < 1}\")\n",
        "print(f\"{1 >= 0}\")\n",
        "print(f\"{1 >= 1}\")\n",
        "print(f\"{1 <= 0}\")\n",
        "print(f\"{1 <= 1}\")"
      ]
    },
    {
      "cell_type": "markdown",
      "metadata": {
        "id": "ZQlZ4KeeQbm7"
      },
      "source": [
        "<h3><code>and, or, not</code></h3>"
      ]
    },
    {
      "cell_type": "markdown",
      "metadata": {
        "id": "d-qzzbFsQbm8"
      },
      "source": [
        "<h2>Truth Table for <code>AND</code>, <code>OR</code>, and <code>NOT</code></h2>\n",
        "\n",
        "<p>This truth table shows how the logical operators <code>AND</code>, <code>OR</code>, and <code>NOT</code> work with Boolean values.</p>\n",
        "\n",
        "<h3>AND Operator</h3>\n",
        "<table border=\"1\">\n",
        "    <tr>\n",
        "        <th><code>A</code></th>\n",
        "        <th><code>B</code></th>\n",
        "        <th><code>A AND B</code></th>\n",
        "    </tr>\n",
        "    <tr>\n",
        "        <td>True</td>\n",
        "        <td>True</td>\n",
        "        <td>True</td>\n",
        "    </tr>\n",
        "    <tr>\n",
        "        <td>True</td>\n",
        "        <td>False</td>\n",
        "        <td>False</td>\n",
        "    </tr>\n",
        "    <tr>\n",
        "        <td>False</td>\n",
        "        <td>True</td>\n",
        "        <td>False</td>\n",
        "    </tr>\n",
        "    <tr>\n",
        "        <td>False</td>\n",
        "        <td>False</td>\n",
        "        <td>False</td>\n",
        "    </tr>\n",
        "</table>\n",
        "\n",
        "<h3>OR Operator</h3>\n",
        "<table border=\"1\">\n",
        "    <tr>\n",
        "        <th><code>A</code></th>\n",
        "        <th><code>B</code></th>\n",
        "        <th><code>A OR B</code></th>\n",
        "    </tr>\n",
        "    <tr>\n",
        "        <td>True</td>\n",
        "        <td>True</td>\n",
        "        <td>True</td>\n",
        "    </tr>\n",
        "    <tr>\n",
        "        <td>True</td>\n",
        "        <td>False</td>\n",
        "        <td>True</td>\n",
        "    </tr>\n",
        "    <tr>\n",
        "        <td>False</td>\n",
        "        <td>True</td>\n",
        "        <td>True</td>\n",
        "    </tr>\n",
        "    <tr>\n",
        "        <td>False</td>\n",
        "        <td>False</td>\n",
        "        <td>False</td>\n",
        "    </tr>\n",
        "</table>\n",
        "\n",
        "<h3>NOT Operator</h3>\n",
        "<table border=\"1\">\n",
        "    <tr>\n",
        "        <th><code>A</code></th>\n",
        "        <th><code>NOT A</code></th>\n",
        "    </tr>\n",
        "    <tr>\n",
        "        <td>True</td>\n",
        "        <td>False</td>\n",
        "    </tr>\n",
        "    <tr>\n",
        "        <td>False</td>\n",
        "        <td>True</td>\n",
        "    </tr>\n",
        "</table>\n",
        "\n",
        "<h3>Summary</h3>\n",
        "<ul>\n",
        "    <li><code>A AND B</code> returns <code>True</code> only if both <code>A</code> and <code>B</code> are <code>True</code>.</li>\n",
        "    <li><code>A OR B</code> returns <code>True</code> if either <code>A</code> or <code>B</code> is <code>True</code>.</li>\n",
        "    <li><code>NOT A</code> returns the opposite of <code>A</code>.</li>\n",
        "</ul>\n"
      ]
    },
    {
      "cell_type": "code",
      "execution_count": null,
      "metadata": {
        "id": "8l7hlRtQQbm8"
      },
      "outputs": [],
      "source": [
        "python_is_cool = True\n",
        "java_is_cool = False\n",
        "# empty_list = []\n",
        "secret_value = 3.14\n",
        "\n",
        "print(f\"Python and java are both cool: {python_is_cool and java_is_cool}\")\n",
        "print(f\"secret_value and python_is_cool: {secret_value and python_is_cool}\")\n",
        "\n",
        "print(f\"Python or java is cool: {python_is_cool or java_is_cool}\")\n",
        "print(f\"{1 >= 1.1 or 2 < 1.4}\")\n",
        "\n",
        "print(f\"Java is not cool: {not java_is_cool}\")"
      ]
    },
    {
      "cell_type": "markdown",
      "metadata": {
        "id": "aEbL4_chQbm8"
      },
      "source": [
        "<h2><code>if statement</code>"
      ]
    },
    {
      "cell_type": "code",
      "execution_count": null,
      "metadata": {
        "id": "CSxFKdPDQbm8"
      },
      "outputs": [],
      "source": [
        "statement = True\n",
        "if True:\n",
        "    print(\"statement is True\")\n",
        "\n",
        "if not statement:\n",
        "    print(\"statement is not True\")\n",
        "\n",
        "val = 3\n",
        "if 0 <= val < 1 or val == 3:\n",
        "    print(\"Value is positive and less than one or value is three\")\n"
      ]
    },
    {
      "cell_type": "markdown",
      "metadata": {
        "id": "2738rBQkQbm8"
      },
      "source": [
        "<h2><code>if-else statement</code>"
      ]
    },
    {
      "cell_type": "code",
      "execution_count": null,
      "metadata": {
        "id": "guZZAojQQbm8"
      },
      "outputs": [],
      "source": [
        "age = int(input(\"Enter your age: \"))\n",
        "\n",
        "if age >= 18:\n",
        "    print(\"You are an adult.\")\n",
        "else:\n",
        "    print(\"You are a minor.\")"
      ]
    },
    {
      "cell_type": "markdown",
      "metadata": {
        "id": "m0n8Gb66Qbm8"
      },
      "source": [
        "<h2><code>if-elif-else statement</code>"
      ]
    },
    {
      "cell_type": "code",
      "execution_count": null,
      "metadata": {
        "id": "0UNV-jIhQbm8"
      },
      "outputs": [],
      "source": [
        "val = 88\n",
        "if val >= 100:\n",
        "    print(\"value is equal or greater than 100\")\n",
        "elif val > 10:\n",
        "    print(\"value is greater than 10 but less than 100\")\n",
        "else:\n",
        "    print(\"value is equal or less than 10\")"
      ]
    },
    {
      "cell_type": "markdown",
      "metadata": {
        "id": "MDRB_9mkQbm9"
      },
      "source": [
        "# <h2 style='color: #2E86C1'> 3. List Operations in Python</h2>\n",
        "\n",
        "<h3>Example List Operations</h3>\n",
        "\n",
        "<p>Below is a Python example demonstrating various list operations:</p>"
      ]
    },
    {
      "cell_type": "markdown",
      "metadata": {
        "id": "Spn1_AgOQbm9"
      },
      "source": [
        "<h3>Table Representation of List Indexing</h3>\n",
        "\n",
        "<table border=\"1\">\n",
        "    <tr>\n",
        "        <th>Index</th>\n",
        "        <td>0</td>\n",
        "        <td>1</td>\n",
        "        <td>2</td>\n",
        "        <td>3</td>\n",
        "        <td>4</td>\n",
        "    </tr>\n",
        "    <tr>\n",
        "        <th>Value</th>\n",
        "        <td>85</td>\n",
        "        <td>90</td>\n",
        "        <td>78</td>\n",
        "        <td>92</td>\n",
        "        <td>88</td>\n",
        "    </tr>\n",
        "</table>\n",
        "\n",
        "<h3>Commonly Used List Methods</h3>\n",
        "\n",
        "<table border=\"1\">\n",
        "    <tr>\n",
        "        <th>Method</th>\n",
        "        <th>Description</th>\n",
        "        <th>Example</th>\n",
        "        <th>Result</th>\n",
        "    </tr>\n",
        "    <tr>\n",
        "        <td><code>append(value)</code></td>\n",
        "        <td>Adds an element to the end of the list</td>\n",
        "        <td><code>grades.append(95)</code></td>\n",
        "        <td>[85, 90, 78, 92, 88, 95]</td>\n",
        "    </tr>\n",
        "    <tr>\n",
        "        <td><code>insert(index, value)</code></td>\n",
        "        <td>Inserts an element at a specific index</td>\n",
        "        <td><code>grades.insert(2, 80)</code></td>\n",
        "        <td>[85, 90, 80, 78, 92, 88, 95]</td>\n",
        "    </tr>\n",
        "    <tr>\n",
        "        <td><code>remove(value)</code></td>\n",
        "        <td>Removes the first occurrence of a value</td>\n",
        "        <td><code>grades.remove(78)</code></td>\n",
        "        <td>[85, 90, 80, 92, 88, 95]</td>\n",
        "    </tr>\n",
        "    <tr>\n",
        "        <td><code>pop(index)</code></td>\n",
        "        <td>Removes and returns the element at a given index</td>\n",
        "        <td><code>grades.pop(1)</code></td>\n",
        "        <td>90 (removed), List: [85, 80, 92, 88, 95]</td>\n",
        "    </tr>\n",
        "    <tr>\n",
        "        <td><code>sort()</code></td>\n",
        "        <td>Sorts the list in ascending order</td>\n",
        "        <td><code>grades.sort()</code></td>\n",
        "        <td>[80, 85, 88, 92, 95]</td>\n",
        "    </tr>\n",
        "    <tr>\n",
        "        <td><code>reverse()</code></td>\n",
        "        <td>Reverses the order of elements in the list</td>\n",
        "        <td><code>grades.reverse()</code></td>\n",
        "        <td>[95, 92, 88, 85, 80]</td>\n",
        "    </tr>\n",
        "    <tr>\n",
        "        <td><code>max()</code></td>\n",
        "        <td>Finds the maximum value in the list</td>\n",
        "        <td><code>max(grades)</code></td>\n",
        "        <td>95</td>\n",
        "    </tr>\n",
        "    <tr>\n",
        "        <td><code>min()</code></td>\n",
        "        <td>Finds the minimum value in the list</td>\n",
        "        <td><code>min(grades)</code></td>\n",
        "        <td>80</td>\n",
        "    </tr>\n",
        "    <tr>\n",
        "        <td><code>len()</code></td>\n",
        "        <td>Finds the length (size) of the list</td>\n",
        "        <td><code>len(grades)</code></td>\n",
        "        <td>5</td>\n",
        "    </tr>\n",
        "</table>\n"
      ]
    },
    {
      "cell_type": "code",
      "execution_count": null,
      "metadata": {
        "id": "TMXPe_DXQbm9"
      },
      "outputs": [],
      "source": [
        "# Lists - A versatile data structure\n",
        "# Lists can contain items of different types\n",
        "student_info = [\"John Doe\", 25, 5.9, [\"Python\", \"Data Science\"]]\n",
        "print(\"Name:\", student_info[0])\n",
        "print(\"Age:\", student_info[1])\n",
        "print(\"Height:\", student_info[2])\n",
        "print(\"Courses:\", student_info[3])"
      ]
    },
    {
      "cell_type": "code",
      "execution_count": null,
      "metadata": {
        "id": "v60TMbGvQbm9"
      },
      "outputs": [],
      "source": [
        "# List operations\n",
        "grades = [85, 90, 78, 92, 88]\n",
        "print(\"\\nGrades:\", grades)\n",
        "print(\"Highest grade:\", max(grades))\n",
        "print(\"Lowest grade:\", min(grades))\n",
        "print(\"First three grades:\", grades[:3])\n",
        "grades.append(95)  # Add a new grade\n",
        "print(\"After adding 95:\", grades)\n",
        "grades.sort()  # Sort the grades\n",
        "print(\"Sorted grades:\", grades)"
      ]
    },
    {
      "cell_type": "markdown",
      "metadata": {
        "id": "QAjJJnJCQbm9"
      },
      "source": [
        "## <h1>Looping Through a List in Python</h1>\n",
        "\n",
        "<h2>Using a <code>for</code> Loop</h2>\n",
        "\n",
        "<p>One of the most common ways to iterate over a list in Python is using a <code>for</code> loop.</p>\n",
        "\n",
        "\n",
        "\n"
      ]
    },
    {
      "cell_type": "code",
      "execution_count": null,
      "metadata": {
        "id": "-hkNyHR8Qbm9"
      },
      "outputs": [],
      "source": [
        "my_list = [1, 2, 3, 4, \"Python\", \"is\", \"neat\"]\n",
        "for item in my_list:\n",
        "    print(item)"
      ]
    },
    {
      "cell_type": "markdown",
      "metadata": {
        "id": "JCHwBEWdQbm9"
      },
      "source": [
        "<h2>Looping with Indexes</h2>\n",
        "\n",
        "<p>Sometimes, you may need to access both the index and the value. You can do this using the <code>range()</code> function:</p>\n",
        "\n",
        "<pre>\n"
      ]
    },
    {
      "cell_type": "code",
      "execution_count": null,
      "metadata": {
        "id": "FOnWVDhxQbm-"
      },
      "outputs": [],
      "source": [
        "for i in range(len(my_list)):\n",
        "    print(f\"Index {i}: {my_list[i]}\")"
      ]
    },
    {
      "cell_type": "markdown",
      "metadata": {
        "id": "E9lnvIr0Qbm-"
      },
      "source": [
        "<h3>Using <code>enumerate()</code> for Cleaner Code</h3>\n",
        "\n",
        "<p>The <code>enumerate()</code> function provides a cleaner way to iterate with both index and value:</p>\n"
      ]
    },
    {
      "cell_type": "code",
      "execution_count": null,
      "metadata": {
        "id": "ftfWrsyLQbm-"
      },
      "outputs": [],
      "source": [
        "for index, value in enumerate(my_list):\n",
        "    print(f\"Index {index}: {value}\")"
      ]
    },
    {
      "cell_type": "markdown",
      "metadata": {
        "id": "-jFP_YGCQbm-"
      },
      "source": [
        "<h2>Summary</h2>\n",
        "\n",
        "<ul>\n",
        "    <li>Basic <code>for</code> loops iterate over a list.</li>\n",
        "    <li>Use <code>range(len(my_list))</code> for index-based looping.</li>\n",
        "    <li><code>enumerate()</code> provides both index and value directly.</li>\n",
        "</ul>"
      ]
    },
    {
      "cell_type": "code",
      "execution_count": null,
      "metadata": {
        "id": "v-3D2DAQQbm-"
      },
      "outputs": [],
      "source": [
        "# Method 2: Calculate average using a list and loop\n",
        "numbers = [num1, num2, num3, num4, num5]\n",
        "sum_numbers = 0\n",
        "for num in numbers:\n",
        "    sum_numbers += num\n",
        "average = sum_numbers / len(numbers)\n",
        "print(\"Method 2 - The average is:\", average)"
      ]
    },
    {
      "cell_type": "code",
      "execution_count": null,
      "metadata": {
        "id": "zlCtz1zGQbm-"
      },
      "outputs": [],
      "source": [
        "numbers_2 = [num1, num2, num3, num4, num5]\n",
        "\n",
        "sum_numbers_2 = 0\n",
        "\n",
        "for i in range(len(numbers_2)):\n",
        "    sum_numbers_2 += numbers_2[i]\n",
        "\n",
        "average = sum_numbers_2 / len(numbers_2)\n",
        "print(f\"Method 2 - The average is: {average:.2f}\" )"
      ]
    },
    {
      "cell_type": "markdown",
      "metadata": {
        "id": "9KIB4q5fQbm-"
      },
      "source": [
        "<h3 style='color: #3498DB'>Exercise 1</h3>\n",
        "<p>Complete the following tasks:</p>\n",
        "<ol>\n",
        "    <li>Create five variables containing temperatures for the week</li>\n",
        "    <li>Calculate their average using a list methods above</li>\n",
        "    <li>Print which day was the hottest and which was the coldest</li>\n",
        "</ol>"
      ]
    },
    {
      "cell_type": "code",
      "execution_count": null,
      "metadata": {
        "id": "IehVKX1bQbm-"
      },
      "outputs": [],
      "source": [
        "# Your solution here\n"
      ]
    },
    {
      "cell_type": "markdown",
      "metadata": {
        "id": "ypmaP7hYQbm-"
      },
      "source": [
        "<h3 style='color: #3498DB'>Exercise 2</h3>\n",
        "<p>Complete the following tasks:</p>\n",
        "<ol>\n",
        "    <li>Create a list containing your weekly expenses</li>\n",
        "    <li>Calculate the total expenses</li>\n",
        "    <li>Find the highest and lowest expense</li>\n",
        "    <li>Calculate the average daily expense</li>\n",
        "    <li>Add a new expense and recalculate everything</li>\n",
        "</ol>"
      ]
    },
    {
      "cell_type": "code",
      "execution_count": null,
      "metadata": {
        "id": "YliMW_QAQbm-"
      },
      "outputs": [],
      "source": [
        "# Your solution here\n"
      ]
    },
    {
      "cell_type": "markdown",
      "metadata": {
        "id": "14ppyX4-Qbm-"
      },
      "source": [
        "## <h2> Working with Lists and While Loops</h2>\n"
      ]
    },
    {
      "cell_type": "markdown",
      "metadata": {
        "id": "3Jt4R6TJQbm_"
      },
      "source": [
        "<p>A <code>while</code> loop repeatedly executes a block of code as long as the given condition is true.</p>"
      ]
    },
    {
      "cell_type": "code",
      "execution_count": null,
      "metadata": {
        "id": "G62GbRp5Qbm_"
      },
      "outputs": [],
      "source": [
        "i = 0\n",
        "while i < 5:\n",
        "    print(i)\n",
        "    i += 1"
      ]
    },
    {
      "cell_type": "code",
      "execution_count": null,
      "metadata": {
        "id": "OT3JwtQmQbm_"
      },
      "outputs": [],
      "source": [
        "# let's loop through a list\n",
        "k = 0\n",
        "while(k < len(numbers)):\n",
        "    print(numbers[k])\n",
        "    k += 1\n",
        "\n",
        "print(numbers)\n"
      ]
    },
    {
      "cell_type": "markdown",
      "metadata": {
        "id": "uQBwWh4JQbm_"
      },
      "source": [
        "<h3>Using <code>break</code> in a <code>while</code> Loop</h3>\n",
        "<p>The <code>break</code> statement is used to exit the loop prematurely, even if the condition is still true.</p>"
      ]
    },
    {
      "cell_type": "code",
      "execution_count": null,
      "metadata": {
        "id": "is26QSqKQbm_"
      },
      "outputs": [],
      "source": [
        "i = 0\n",
        "while i < 5:\n",
        "    print(i)\n",
        "    if i == 3:\n",
        "        break\n",
        "    i += 1"
      ]
    },
    {
      "cell_type": "markdown",
      "metadata": {
        "id": "k3olqwZYQbnE"
      },
      "source": [
        "<p>This example shows how a <code>while(True)</code> loop can be used to keep asking the user for input until they type <code>end</code> to exit.</p>"
      ]
    },
    {
      "cell_type": "code",
      "execution_count": null,
      "metadata": {
        "id": "nJAarfbPQbnE"
      },
      "outputs": [],
      "source": [
        "while True:\n",
        "    user_input = input(\"Enter something (type 'end' to stop): \")\n",
        "    if user_input.lower() == 'end':\n",
        "        print(\"Ending the loop.\")\n",
        "        break\n",
        "    else:\n",
        "        print(f\"You entered: {user_input}\")"
      ]
    },
    {
      "cell_type": "markdown",
      "metadata": {
        "id": "D_J6tH8FQbnF"
      },
      "source": [
        "<h3>Using <code>continue</code> in a <code>while</code> Loop</h3>\n",
        "<p> Continue to the next item without executing the lines occuring after `continue` inside the loop. </p>"
      ]
    },
    {
      "cell_type": "code",
      "execution_count": null,
      "metadata": {
        "id": "wmXmG_6UQbnF"
      },
      "outputs": [],
      "source": [
        "print(grades)\n",
        "for item in grades:\n",
        "    if item == 85:\n",
        "        continue\n",
        "    print(item)"
      ]
    },
    {
      "cell_type": "code",
      "execution_count": null,
      "metadata": {
        "id": "17-GHmvwQbnF"
      },
      "outputs": [],
      "source": [
        "# While loop example: Grade improvement tracker\n",
        "target_grade = 90\n",
        "current_grade = 85\n",
        "weeks = 0\n",
        "improvement_per_week = 1.5\n",
        "\n",
        "while current_grade < target_grade:\n",
        "    current_grade += improvement_per_week\n",
        "    weeks += 1\n",
        "    print(f\"Week {weeks}: Grade = {current_grade:.2f}\")\n",
        "\n",
        "print(f\"\\nIt took {weeks} weeks to reach the target grade.\")"
      ]
    },
    {
      "cell_type": "markdown",
      "metadata": {
        "id": "QyMOA5-DQbnF"
      },
      "source": [
        "# <h2 style='color: #2E86C1'>4. Functions</h2>\n",
        "<p>Functions are reusable blocks of code that perform specific tasks.\n",
        "They help us organize code and avoid repetition.</p>"
      ]
    },
    {
      "cell_type": "code",
      "execution_count": null,
      "metadata": {
        "id": "WnGQA0UxQbnF"
      },
      "outputs": [],
      "source": [
        "#Fuctions that do not return anything\n",
        "\n",
        "def printHelloWorld():\n",
        "    print(f\"Hello World\")\n",
        "\n",
        "printHelloWorld()\n",
        "\n"
      ]
    },
    {
      "cell_type": "code",
      "execution_count": null,
      "metadata": {
        "id": "B7QOeFpLQbnF"
      },
      "outputs": [],
      "source": [
        "def printHelloWorld(name):\n",
        "    print(f\"Hello {name}\")\n",
        "\n",
        "printHelloWorld(\"Christin\")\n",
        "printHelloWorld(\"Mugisha\")\n",
        "printHelloWorld(\"John\")\n",
        "printHelloWorld(\"Suzane\")\n"
      ]
    },
    {
      "cell_type": "code",
      "execution_count": null,
      "metadata": {
        "id": "641MHeV9QbnF"
      },
      "outputs": [],
      "source": [
        "def calculate_final_grade(assignments, midterm, final):\n",
        "    \"\"\"\n",
        "    Calculate final grade with weights:\n",
        "    Assignments: 40%\n",
        "    Midterm: 25%\n",
        "    Final: 35%\n",
        "    \"\"\"\n",
        "    assignment_avg = sum(assignments) / len(assignments)\n",
        "    final_grade = (assignment_avg * 0.4) + (midterm * 0.25) + (final * 0.35)\n",
        "    return final_grade\n",
        "\n",
        "def determine_letter_grade(numeric_grade):\n",
        "    \"\"\"Convert numeric grade to letter grade\"\"\"\n",
        "    if numeric_grade >= 90:\n",
        "        print(\"Letter Grade: is A\")\n",
        "    elif numeric_grade >= 80:\n",
        "        print(\"Letter Grade: is B\")\n",
        "    elif numeric_grade >= 70:\n",
        "        print(\"Letter Grade: is C\")\n",
        "    elif numeric_grade >= 60:\n",
        "        print(\"Letter Grade: is D\")\n",
        "    else:\n",
        "        print(\"Letter Grade: is F\")\n",
        "\n",
        "# Example usage\n",
        "student_assignments = [88, 92, 85, 95]\n",
        "student_midterm = 83\n",
        "student_final = 90\n",
        "\n",
        "final_ = calculate_final_grade(student_assignments, student_midterm, student_final)\n",
        "\n",
        "\n",
        "print(f\"Final Numeric Grade: {final_:.2f}\")\n",
        "determine_letter_grade(final_)"
      ]
    },
    {
      "cell_type": "code",
      "execution_count": null,
      "metadata": {
        "id": "h505ha4KQbnF"
      },
      "outputs": [],
      "source": [
        "def introdruction(name, age, height):\n",
        "    born_in = 2024 - age\n",
        "    return name, born_in, height\n",
        "\n",
        "# name_Value = \"Christa\"\n",
        "# age_value = 2000\n",
        "# height_value = 174\n",
        "\n",
        "name_value, age_value, height_value = introdruction(\"Christa\",24, 174)\n",
        "\n",
        "\n",
        "print(f\"Your name is : {name_value} , you were born in {age_value}, your height is {height_value}\")\n",
        "\n"
      ]
    },
    {
      "cell_type": "markdown",
      "metadata": {
        "id": "MfU7p0MWQbnF"
      },
      "source": [
        "<h2>Summary</h2>\n",
        "\n",
        "<ul>\n",
        "    <li>Functions help organize code and reduce redundancy.</li>\n",
        "    <li>Some functions return values, while others simply execute actions.</li>\n",
        "    <li>Parameters allow us to make functions more versatile.</li>\n",
        "    <li>Python's flexibility in returning multiple values makes functions even more powerful.</li>\n",
        "</ul>\n"
      ]
    },
    {
      "cell_type": "markdown",
      "metadata": {
        "id": "ceqNOXF9QbnG"
      },
      "source": [
        "<h3 style='color: #3498DB'>Exercise 4</h3>\n",
        "<p>Complete the following tasks:</p>\n",
        "<ol>\n",
        "    <li>Create a function called `calculate_pay` that:\n",
        "        <ul>\n",
        "            <li>Takes hours worked and hourly rate as parameters</li>\n",
        "            <li>Regular hours are up to 40 hours per week</li>\n",
        "            <li>Overtime rate is 1.5 times the regular rate</li>\n",
        "            <li>Returns regular pay, overtime pay, and total pay</li>\n",
        "        </ul>\n",
        "    </li>\n",
        "    <li>Create a function called `calculate_commission` that:\n",
        "        <ul>\n",
        "            <li>Takes monthly sales amount as parameter</li>\n",
        "            <li>Calculates commission based on:\n",
        "                <ul>\n",
        "                    <li>5% on first $10,000</li>\n",
        "                    <li>6% on next $10,000</li>\n",
        "                    <li>9% on amount above $20,000</li>\n",
        "                </ul>\n",
        "            </li>\n",
        "            <li>Returns the total commission</li>\n",
        "        </ul>\n",
        "    </li>\n",
        "    <li>Test your functions with these values:\n",
        "        <ul>\n",
        "            <li>Pay calculation: 45 hours at $20/hour</li>\n",
        "            <li>Commission calculation: Monthly sales of $50,000</li>\n",
        "        </ul>\n",
        "    </li>\n",
        "</ol>"
      ]
    },
    {
      "cell_type": "code",
      "execution_count": null,
      "metadata": {
        "id": "HB7dku95QbnG"
      },
      "outputs": [],
      "source": [
        "# Your solution here\n"
      ]
    },
    {
      "cell_type": "markdown",
      "metadata": {
        "id": "x8uTPqCdQbnG"
      },
      "source": [
        "<h2 style='color: #2E86C1'>Final Challenge Exercise</h2>\n",
        "<p>Create a simple student management system that:</p>\n",
        "<ol>\n",
        "    <li>Stores student information (name, ID, grades)</li>\n",
        "    <li>Calculates GPA</li>\n",
        "    <li>Tracks attendance</li>\n",
        "    <li>Generates progress reports</li>\n",
        "    <li>Identifies students who need additional support</li>\n",
        "</ol>\n",
        "<p>Use all the concepts we've covered:</p>\n",
        "<ul>\n",
        "    <li>Lists and dictionaries for data storage</li>\n",
        "    <li>Loops for data processing</li>\n",
        "    <li>Functions for calculations and report generation</li>\n",
        "    <li>Conditions for decision making</li>\n",
        "</ul>"
      ]
    },
    {
      "cell_type": "code",
      "execution_count": null,
      "metadata": {
        "id": "ApvEjMB6QbnG"
      },
      "outputs": [],
      "source": [
        "# Your solution here\n"
      ]
    },
    {
      "cell_type": "markdown",
      "source": [
        "# Solving Linear system using numpy"
      ],
      "metadata": {
        "id": "Aznry8CeGpij"
      }
    },
    {
      "cell_type": "code",
      "source": [
        "import numpy as np\n",
        "A = np.array([[12, -4], [6, -8]])\n",
        "B = np.array([12, -2])\n",
        "\n",
        "# print(type(A))\n",
        "\n",
        "solution = np.linalg.solve(A, B)\n",
        "# solution = solution.astype(int)\n",
        "print(f\"Solution for x and y:{solution}\")"
      ],
      "metadata": {
        "colab": {
          "base_uri": "https://localhost:8080/"
        },
        "id": "NMPZAGnPQewc",
        "outputId": "67bdacdd-8e25-46d9-d0bd-0322d28b63e8"
      },
      "execution_count": null,
      "outputs": [
        {
          "output_type": "stream",
          "name": "stdout",
          "text": [
            "Solution for x and y:[1.44444444 1.33333333]\n"
          ]
        }
      ]
    },
    {
      "cell_type": "markdown",
      "source": [
        "# Automating CVP analysis"
      ],
      "metadata": {
        "id": "DnHCoCpOEk74"
      }
    },
    {
      "cell_type": "markdown",
      "source": [
        "## Break even analysis"
      ],
      "metadata": {
        "id": "9AYZ42k7EvzD"
      }
    },
    {
      "cell_type": "code",
      "source": [
        "\"\"\"\n",
        "Let’s start by automating the break-even point calculation. Imagine a business selling a product for $20 per unit with a variable cost of $12 per unit and fixed costs of $10,000.\n",
        "Using Python, we can quickly calculate how many units need to be sold to break even.\n",
        "\n",
        "\"\"\"\n",
        "\n",
        "\n",
        "# Inputs\n",
        "\n",
        "price_per_unit = 20\n",
        "variable_cost = 12\n",
        "fixed_costs = 10000\n",
        "\n",
        "# Calculate contribution margin\n",
        "\n",
        "contribution_margin = price_per_unit - variable_cost\n",
        "\n",
        "# Calculate break-even point\n",
        "\n",
        "break_even_point = fixed_costs / contribution_margin\n",
        "\n",
        "\n",
        "# Output result\n",
        "print(f\"To break even, you need to sell {break_even_point:.2f} units\")\n"
      ],
      "metadata": {
        "id": "4Io4oesyETfR",
        "colab": {
          "base_uri": "https://localhost:8080/"
        },
        "outputId": "fe3b3bf6-0d66-42e3-dd2c-046bb9d15bba"
      },
      "execution_count": null,
      "outputs": [
        {
          "output_type": "stream",
          "name": "stdout",
          "text": [
            "To break even, you need to sell 1250.00 units\n"
          ]
        }
      ]
    },
    {
      "cell_type": "markdown",
      "source": [
        "# Automating Margin of Safety Calculations"
      ],
      "metadata": {
        "id": "WCmCq4R_FN3u"
      }
    },
    {
      "cell_type": "code",
      "source": [
        "\"\"\"\n",
        "Suppose the business expects to sell 2000 units. We can calculate the margin of safety in both units and percentage terms.\n",
        "\n",
        "\"\"\"\n",
        "\n",
        "# Expected sales\n",
        "expected_sales = 2000\n",
        "\n",
        "\n",
        "\n",
        "# Calculate margin of safety\n",
        "\n",
        "marginOfSafety = expected_sales - break_even_point\n",
        "marginOfSafetyPercent = (marginOfSafety / expected_sales) * 100\n",
        "\n",
        "# Output results\n",
        "print(f\"The Margin  of safety in units is {marginOfSafety:.2f}\")\n",
        "\n",
        "print(f\"The % Margin  of safety is {marginOfSafetyPercent:.2f} %\")\n"
      ],
      "metadata": {
        "id": "AnmNoxXBFXYo",
        "colab": {
          "base_uri": "https://localhost:8080/"
        },
        "outputId": "53a4dc35-8df9-4da5-890f-0fbb00f9d7eb"
      },
      "execution_count": null,
      "outputs": [
        {
          "output_type": "stream",
          "name": "stdout",
          "text": [
            "The Margin  of safety in units is 750.00\n",
            "The % Margin  of safety is 37.50 %\n"
          ]
        }
      ]
    },
    {
      "cell_type": "code",
      "source": [
        "import matplotlib.pyplot as plt\n",
        "import numpy as np\n",
        "\n",
        "# Generate data for units sold\n",
        "units = range(0, 2000, 10) # list that starts from 0 to 2000 incrementing by 10\n",
        "\n",
        "revenue = []\n",
        "\n",
        "for unit in units:\n",
        "  revenue.append(unit * price_per_unit)\n",
        "\n",
        "total_cost = [fixed_costs + (variable_cost * unit) for unit in units]\n",
        "\n",
        "\n",
        "plt.plot(units, total_cost, label = \"Total Cost\")\n",
        "\n",
        "plt.plot(units, revenue, label = \"Revenue\")\n",
        "\n",
        "plt.axvline(x=break_even_point, color='red', linestyle='--', label=\"Break-Even Point\")\n",
        "# Calculate revenue and costs\n",
        "# revenue = [price_per_unit * unit for unit in units]\n",
        "\n",
        "# x_points = np.array([0,10])\n",
        "\n",
        "# y_points = np.array([0,100])\n",
        "\n",
        "\n",
        "# plt.plot(x_points,y_points)\n",
        "plt.xlabel(\"Units solds\")\n",
        "plt.ylabel(\"Dollars\")\n",
        "plt.title(\"Break Even analysis\")\n",
        "plt.legend()\n",
        "plt.show()\n",
        "\n"
      ],
      "metadata": {
        "colab": {
          "base_uri": "https://localhost:8080/",
          "height": 472
        },
        "id": "bOi_cRfbsgfD",
        "outputId": "acb0668d-ffc7-442a-e429-846a70436fb3"
      },
      "execution_count": null,
      "outputs": [
        {
          "output_type": "display_data",
          "data": {
            "text/plain": [
              "<Figure size 640x480 with 1 Axes>"
            ],
            "image/png": "[encoded data removed]"
          },
          "metadata": {}
        }
      ]
    }
  ],
  "metadata": {
    "kernelspec": {
      "display_name": "Python 3",
      "language": "python",
      "name": "python3"
    },
    "language_info": {
      "codemirror_mode": {
        "name": "ipython",
        "version": 3
      },
      "file_extension": ".py",
      "mimetype": "text/x-python",
      "name": "python",
      "nbconvert_exporter": "python",
      "pygments_lexer": "ipython3",
      "version": "3.11.4"
    },
    "colab": {
      "provenance": []
    }
  },
  "nbformat": 4,
  "nbformat_minor": 0
}